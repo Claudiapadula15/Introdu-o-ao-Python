{
  "nbformat": 4,
  "nbformat_minor": 0,
  "metadata": {
    "colab": {
      "provenance": [],
      "authorship_tag": "ABX9TyPxGFU1VIld9hEivge+zFbL",
      "include_colab_link": true
    },
    "kernelspec": {
      "name": "python3",
      "display_name": "Python 3"
    },
    "language_info": {
      "name": "python"
    }
  },
  "cells": [
    {
      "cell_type": "markdown",
      "metadata": {
        "id": "view-in-github",
        "colab_type": "text"
      },
      "source": [
        "<a href=\"https://colab.research.google.com/github/Claudiapadula15/Introdu-o-ao-Python/blob/main/Introdu%C3%A7%C3%A3o_ao_Python.ipynb\" target=\"_parent\"><img src=\"https://colab.research.google.com/assets/colab-badge.svg\" alt=\"Open In Colab\"/></a>"
      ]
    },
    {
      "cell_type": "markdown",
      "source": [
        "## Aula 1"
      ],
      "metadata": {
        "id": "4AH1TGv2YzYu"
      }
    },
    {
      "cell_type": "code",
      "execution_count": null,
      "metadata": {
        "colab": {
          "base_uri": "https://localhost:8080/"
        },
        "id": "Mg5Ft9ATQKh_",
        "outputId": "b40c25a8-1cbc-43c7-de14-b26b640563cc"
      },
      "outputs": [
        {
          "output_type": "stream",
          "name": "stdout",
          "text": [
            "I competição de programação dá Start\n"
          ]
        }
      ],
      "source": [
        "print(\"I competição de programação dá Start\")"
      ]
    },
    {
      "cell_type": "code",
      "source": [
        "ano = \"II\"\n",
        "print(ano, \"competição de programação da Start\")"
      ],
      "metadata": {
        "colab": {
          "base_uri": "https://localhost:8080/"
        },
        "id": "qgzN2mL-RYoa",
        "outputId": "88e86962-0041-48d9-a6b7-d2d3195c56d6"
      },
      "execution_count": null,
      "outputs": [
        {
          "output_type": "stream",
          "name": "stdout",
          "text": [
            "II competição de programação da Start\n"
          ]
        }
      ]
    },
    {
      "cell_type": "code",
      "source": [
        "print(f\"{ano} competição de programação da Start\")"
      ],
      "metadata": {
        "colab": {
          "base_uri": "https://localhost:8080/"
        },
        "id": "uzGsjDtzSCNY",
        "outputId": "80638b52-3fc5-4fb2-91a6-0f865674be4a"
      },
      "execution_count": null,
      "outputs": [
        {
          "output_type": "stream",
          "name": "stdout",
          "text": [
            "II competição de programação da Start\n"
          ]
        }
      ]
    },
    {
      "cell_type": "code",
      "source": [
        "print(\"III competição de programação do CCM\")"
      ],
      "metadata": {
        "colab": {
          "base_uri": "https://localhost:8080/"
        },
        "id": "cMtRgAdITLQY",
        "outputId": "073dff54-8154-4c6f-8a7c-54eea40bafae"
      },
      "execution_count": null,
      "outputs": [
        {
          "output_type": "stream",
          "name": "stdout",
          "text": [
            "III competição de programação do CCM\n"
          ]
        }
      ]
    },
    {
      "cell_type": "code",
      "source": [
        "edição = \"III\"\n",
        "cidade = \"Colorado\"\n",
        "ano = 2025\n",
        "print(edição,\"competição de programação do CCM\",cidade,ano)"
      ],
      "metadata": {
        "colab": {
          "base_uri": "https://localhost:8080/"
        },
        "id": "KABnB7GqTe1B",
        "outputId": "a5f4f66c-8f5b-425d-f322-74b9d2dba405"
      },
      "execution_count": null,
      "outputs": [
        {
          "output_type": "stream",
          "name": "stdout",
          "text": [
            "III competição de programação do CCM Colorado 2025\n"
          ]
        }
      ]
    },
    {
      "cell_type": "code",
      "source": [
        "print(f\"{edição} competição de programação do CCM {cidade} {ano}\")"
      ],
      "metadata": {
        "colab": {
          "base_uri": "https://localhost:8080/"
        },
        "id": "rW6yn8v7USZw",
        "outputId": "49e7db7a-bbad-4f33-87b9-bcf16a8be8d9"
      },
      "execution_count": null,
      "outputs": [
        {
          "output_type": "stream",
          "name": "stdout",
          "text": [
            "III competição de programação do CCM Colorado 2025\n"
          ]
        }
      ]
    },
    {
      "cell_type": "markdown",
      "source": [
        "## Aula 2"
      ],
      "metadata": {
        "id": "F4ffEwKRY_6h"
      }
    },
    {
      "cell_type": "markdown",
      "source": [
        "Uma escola está promovendo uma campanha de incentivo à leitura, em que cada estudante recebe pontos ao concluir livros. Esses pontos podem ser trocados por diferentes prêmios da escola, e as categorias de livros têm valores diferntes de pontos:\n",
        "\n",
        "Ficção: 8 pontos;\n",
        "Não ficção: 8 ponto;\n",
        "Infantis: 6 pontos.\n",
        "Rodrigo, um estudante dessa escola, leu um livro de cada categoria e, agora, quer saber quantos pontos acumulou com sua leitura. Para isso, você deve criar um programa em Python que tenha as seguintes características:\n",
        "\n",
        "Consiga armazenar os pontos de cada categoria de livro;\n",
        "Calcule os pontos de Rodrigo;\n",
        "Apresente na tela os pontos de Rodrigo."
      ],
      "metadata": {
        "id": "Pbwv-ABha6rq"
      }
    },
    {
      "cell_type": "code",
      "source": [
        "livro_ficcao = 8\n",
        "livro_n_ficcao = 10\n",
        "livro_infantil = 6\n",
        "\n",
        "pontos_rodrigo = livro_ficcao + livro_n_ficcao + livro_infantil\n",
        "\n",
        "print(f\"Os pontos totais do Rodrigo são {pontos_rodrigo}\")"
      ],
      "metadata": {
        "colab": {
          "base_uri": "https://localhost:8080/"
        },
        "id": "BnonbK1GbCtr",
        "outputId": "082e2454-9c6c-4252-9c45-23ce5b7da989"
      },
      "execution_count": 23,
      "outputs": [
        {
          "output_type": "stream",
          "name": "stdout",
          "text": [
            "Os pontos totais do Rodrigo são 24\n"
          ]
        }
      ]
    },
    {
      "cell_type": "markdown",
      "source": [
        "Ana, outra estudante dessa escola, participou da campanha e leu dois livros de ficção e cinco livros infantis. Para resolvê-lo, responda as seguintes perguntas programando em Python:\n",
        "\n",
        "Quantos pontos Ana acumulou ao final da leitura?\n",
        "Qual é o total de pontos acumulados por Rodrigo e Ana juntos?"
      ],
      "metadata": {
        "id": "JOx3DUpdbZHj"
      }
    },
    {
      "cell_type": "code",
      "source": [
        "pontos_ana = 2*livro_ficcao + 5*livro_infantil\n",
        "\n",
        "print(f\"Os pontos totais de Ana são: {pontos_ana}\")"
      ],
      "metadata": {
        "colab": {
          "base_uri": "https://localhost:8080/"
        },
        "id": "_Nb70FGkbiPV",
        "outputId": "f3ce38c2-b797-48a4-ac0e-98ea56879bac"
      },
      "execution_count": 24,
      "outputs": [
        {
          "output_type": "stream",
          "name": "stdout",
          "text": [
            "Os pontos totais de Ana são: 46\n"
          ]
        }
      ]
    },
    {
      "cell_type": "markdown",
      "source": [
        "Imagine o seguinte cenário: Marcelo é um estudante que adora jogos de RPG. No fim de semana, ele embarcou em uma missão épica em seu jogo favorito: Reinos da lógica. Durante a jornada, ele completou várias fases com diferentes níveis de dificuldade: passou por três fases fáceis, duas médias, uma difícil e uma lendária. Cada tipo de fase gerou uma pontuação diferente, observe:\n",
        "\n",
        "• fase fácil: 10 pontos;\n",
        "• fase média: 25 pontos;\n",
        "• fase difícil: 50 pontos;\n",
        "• fase lendária: 100 pontos.\n",
        "Agora, crie quatro variáveis que armazenem os pontos obtidos em cada tipo de fase. Depois, calcule a média de pontos por fase usando divisão e mostre o resultado com uma f-string."
      ],
      "metadata": {
        "id": "VkdBge9xcNH4"
      }
    },
    {
      "cell_type": "code",
      "source": [
        "fase_facil = 10\n",
        "fase_media = 25\n",
        "fase_dificil = 50\n",
        "fase_lendaria = 100\n",
        "\n",
        "pontos_marcelo = 3*fase_facil + 2*fase_media + fase_dificil + fase_lendaria\n",
        "\n",
        "print(f\"Os pontos totais de Marcelo são: {pontos_marcelo}\")"
      ],
      "metadata": {
        "colab": {
          "base_uri": "https://localhost:8080/"
        },
        "id": "gxJq3J3_cTg-",
        "outputId": "ac810118-b0bf-4fe6-ec8a-2d88b778a56a"
      },
      "execution_count": 25,
      "outputs": [
        {
          "output_type": "stream",
          "name": "stdout",
          "text": [
            "Os pontos totais de Marcelo são: 230\n"
          ]
        }
      ]
    }
  ]
}